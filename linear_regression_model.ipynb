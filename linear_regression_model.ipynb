{
  "nbformat": 4,
  "nbformat_minor": 0,
  "metadata": {
    "colab": {
      "provenance": [],
      "gpuType": "T4"
    },
    "kernelspec": {
      "name": "python3",
      "display_name": "Python 3"
    },
    "language_info": {
      "name": "python"
    },
    "accelerator": "GPU"
  },
  "cells": [
    {
      "cell_type": "code",
      "execution_count": null,
      "metadata": {
        "id": "U0V3VU_ASqYd"
      },
      "outputs": [],
      "source": [
        "import numpy as np\n",
        "import torch\n",
        "from torch import nn as nn\n",
        "import matplotlib.pyplot as plt\n",
        "\n",
        "device=\"cuda\" if(torch.cuda.is_available()) else \"cpu\""
      ]
    },
    {
      "cell_type": "code",
      "source": [
        "x=torch.arange(0,1,0.02)\n",
        "x=x.unsqueeze(dim=1)\n",
        "y=0.7*x + 0.3"
      ],
      "metadata": {
        "id": "Orj_BW9rTDUx"
      },
      "execution_count": null,
      "outputs": []
    },
    {
      "cell_type": "code",
      "source": [
        "percent=0.8\n",
        "len=x.shape[0]\n",
        "x_train,y_train=x[:int(percent*len)],y[:int(percent*len)]\n",
        "print(f\"length of training sets = x_train : {x_train.shape[0]} , y_train: {y_train.shape[0]}\")\n",
        "x_test,y_test=x[int(percent*len):],y[int(percent*len):]\n",
        "print(f\"length of training sets = x_test : {x_test.shape[0]} , y_test: {y_test.shape[0]}\")"
      ],
      "metadata": {
        "colab": {
          "base_uri": "https://localhost:8080/"
        },
        "id": "lqZXnAIsTn5t",
        "outputId": "7cf6e48f-abb3-4ab9-df72-9b53ebb55061"
      },
      "execution_count": null,
      "outputs": [
        {
          "output_type": "stream",
          "name": "stdout",
          "text": [
            "length of training sets = x_train : 40 , y_train: 40\n",
            "length of training sets = x_test : 10 , y_test: 10\n"
          ]
        }
      ]
    },
    {
      "cell_type": "code",
      "source": [
        "plt.scatter(x,y)\n",
        "plt.show()"
      ],
      "metadata": {
        "colab": {
          "base_uri": "https://localhost:8080/",
          "height": 430
        },
        "id": "HogUsZRxd1LA",
        "outputId": "9873fa90-648b-42f2-94cb-51ce6498ab19"
      },
      "execution_count": null,
      "outputs": [
        {
          "output_type": "display_data",
          "data": {
            "text/plain": [
              "<Figure size 640x480 with 1 Axes>"
            ],
            "image/png": "[encoded data removed]"
          },
          "metadata": {}
        }
      ]
    },
    {
      "cell_type": "code",
      "source": [
        "class reg_model(nn.Module):\n",
        "  def __init__(self):\n",
        "    super().__init__()\n",
        "    self.linear_layer=nn.Linear(in_features=1,out_features=1)\n",
        "\n",
        "  def forward(self,x:torch.tensor)->torch.tensor:\n",
        "    return self.linear_layer(x)\n"
      ],
      "metadata": {
        "id": "MXt742JxVOn4"
      },
      "execution_count": null,
      "outputs": []
    },
    {
      "cell_type": "code",
      "source": [
        "torch.manual_seed(42)\n",
        "model_1=reg_model()\n",
        "model_1.to(device)\n",
        "model_1.state_dict()"
      ],
      "metadata": {
        "colab": {
          "base_uri": "https://localhost:8080/"
        },
        "id": "XKFSoKuUXvY-",
        "outputId": "08302f59-3748-4032-b73b-d0cffc0339dc"
      },
      "execution_count": null,
      "outputs": [
        {
          "output_type": "execute_result",
          "data": {
            "text/plain": [
              "OrderedDict([('linear_layer.weight', tensor([[0.7645]], device='cuda:0')),\n",
              "             ('linear_layer.bias', tensor([0.8300], device='cuda:0'))])"
            ]
          },
          "metadata": {},
          "execution_count": 6
        }
      ]
    },
    {
      "cell_type": "code",
      "source": [
        "next(model_1.parameters()).device"
      ],
      "metadata": {
        "colab": {
          "base_uri": "https://localhost:8080/"
        },
        "id": "3Lm8JmV346A5",
        "outputId": "5887e8d2-50e2-4577-e441-85f2dd3eb2e4"
      },
      "execution_count": null,
      "outputs": [
        {
          "output_type": "execute_result",
          "data": {
            "text/plain": [
              "device(type='cuda', index=0)"
            ]
          },
          "metadata": {},
          "execution_count": 7
        }
      ]
    },
    {
      "cell_type": "code",
      "source": [
        "loss_fn=nn.L1Loss()"
      ],
      "metadata": {
        "id": "dppRsIBWXUnk"
      },
      "execution_count": null,
      "outputs": []
    },
    {
      "cell_type": "code",
      "source": [
        "optimizer=torch.optim.SGD(params=model_1.parameters(),lr=0.01)"
      ],
      "metadata": {
        "id": "3gfsBrFvXeC4"
      },
      "execution_count": null,
      "outputs": []
    },
    {
      "cell_type": "code",
      "source": [
        "epochs=100\n",
        "x_train=x_train.to(device)\n",
        "y_train=y_train.to(device)\n",
        "x_test=x_test.to(device)\n",
        "y_test=y_test.to(device)\n",
        "for epoch in range(epochs):\n",
        "  model_1.train()\n",
        "  y_preds=model_1(x_train)\n",
        "  loss=loss_fn(y_preds,y_train)\n",
        "  optimizer.zero_grad()\n",
        "  loss.backward()\n",
        "  optimizer.step()\n",
        "  print(f\"loss is : {loss}\")\n",
        "  model_1.eval()\n",
        "  with torch.inference_mode():\n",
        "    pred=model_1(x_test)\n"
      ],
      "metadata": {
        "colab": {
          "base_uri": "https://localhost:8080/"
        },
        "id": "FpWrf2srYOaG",
        "outputId": "c3d18962-7edf-4f90-ffb3-85a8d9075f14"
      },
      "execution_count": null,
      "outputs": [
        {
          "output_type": "stream",
          "name": "stdout",
          "text": [
            "loss is : 0.5551779866218567\n",
            "loss is : 0.5436570048332214\n",
            "loss is : 0.5321359634399414\n",
            "loss is : 0.5206149816513062\n",
            "loss is : 0.5090939998626709\n",
            "loss is : 0.49757298827171326\n",
            "loss is : 0.4860520362854004\n",
            "loss is : 0.47453102469444275\n",
            "loss is : 0.4630100429058075\n",
            "loss is : 0.45148906111717224\n",
            "loss is : 0.439968079328537\n",
            "loss is : 0.42844706773757935\n",
            "loss is : 0.4169261157512665\n",
            "loss is : 0.4054051339626312\n",
            "loss is : 0.3938841223716736\n",
            "loss is : 0.38236314058303833\n",
            "loss is : 0.3708421289920807\n",
            "loss is : 0.35932111740112305\n",
            "loss is : 0.3478001654148102\n",
            "loss is : 0.3362792134284973\n",
            "loss is : 0.3247582018375397\n",
            "loss is : 0.31323719024658203\n",
            "loss is : 0.3017162084579468\n",
            "loss is : 0.2901952266693115\n",
            "loss is : 0.2786742150783539\n",
            "loss is : 0.267153263092041\n",
            "loss is : 0.2556322515010834\n",
            "loss is : 0.2441112995147705\n",
            "loss is : 0.23259030282497406\n",
            "loss is : 0.2210693210363388\n",
            "loss is : 0.20954833924770355\n",
            "loss is : 0.1980273425579071\n",
            "loss is : 0.18650634586811066\n",
            "loss is : 0.1749853491783142\n",
            "loss is : 0.16346438229084015\n",
            "loss is : 0.1519434005022049\n",
            "loss is : 0.14042238891124725\n",
            "loss is : 0.128901407122612\n",
            "loss is : 0.11738043278455734\n",
            "loss is : 0.1058594360947609\n",
            "loss is : 0.09433845430612564\n",
            "loss is : 0.0828174576163292\n",
            "loss is : 0.07129647582769394\n",
            "loss is : 0.05977549031376839\n",
            "loss is : 0.048254501074552536\n",
            "loss is : 0.03738182410597801\n",
            "loss is : 0.030850563198328018\n",
            "loss is : 0.02764224074780941\n",
            "loss is : 0.025835609063506126\n",
            "loss is : 0.02469830960035324\n",
            "loss is : 0.023886388167738914\n",
            "loss is : 0.023356428369879723\n",
            "loss is : 0.022868333384394646\n",
            "loss is : 0.022455641999840736\n",
            "loss is : 0.022062918171286583\n",
            "loss is : 0.0217101089656353\n",
            "loss is : 0.021357299759984016\n",
            "loss is : 0.021004488691687584\n",
            "loss is : 0.020651673898100853\n",
            "loss is : 0.02029886282980442\n",
            "loss is : 0.019956795498728752\n",
            "loss is : 0.019609849900007248\n",
            "loss is : 0.019271593540906906\n",
            "loss is : 0.0189225934445858\n",
            "loss is : 0.01858464628458023\n",
            "loss is : 0.018237387761473656\n",
            "loss is : 0.01789563149213791\n",
            "loss is : 0.017552189528942108\n",
            "loss is : 0.017206626012921333\n",
            "loss is : 0.016866983845829964\n",
            "loss is : 0.016517987474799156\n",
            "loss is : 0.01618141122162342\n",
            "loss is : 0.01583278924226761\n",
            "loss is : 0.01549240481108427\n",
            "loss is : 0.015147584490478039\n",
            "loss is : 0.014803391881287098\n",
            "loss is : 0.014462386257946491\n",
            "loss is : 0.014114384539425373\n",
            "loss is : 0.013777181506156921\n",
            "loss is : 0.013428181409835815\n",
            "loss is : 0.013089174404740334\n",
            "loss is : 0.012742983177304268\n",
            "loss is : 0.01240016520023346\n",
            "loss is : 0.012057777494192123\n",
            "loss is : 0.011711154133081436\n",
            "loss is : 0.01137258019298315\n",
            "loss is : 0.01102358102798462\n",
            "loss is : 0.010685942135751247\n",
            "loss is : 0.010338379070162773\n",
            "loss is : 0.009996932931244373\n",
            "loss is : 0.009653178043663502\n",
            "loss is : 0.00930792186409235\n",
            "loss is : 0.008967976085841656\n",
            "loss is : 0.008618975058197975\n",
            "loss is : 0.008282712660729885\n",
            "loss is : 0.007933772169053555\n",
            "loss is : 0.007593703921884298\n",
            "loss is : 0.0072485716082155704\n",
            "loss is : 0.006904691457748413\n",
            "loss is : 0.006563369184732437\n"
          ]
        }
      ]
    },
    {
      "cell_type": "code",
      "source": [
        "def plot(x_train=x_train,y_train=y_train,x_test=x_test,y_test=y_test,prediction=None):\n",
        "  plt.scatter(x_train.cpu().numpy(),y_train.cpu().numpy(),c=\"r\",s=4)\n",
        "  plt.scatter(x_test.cpu().numpy(),y_test.cpu().numpy(),c=\"b\",s=4)\n",
        "  plt.scatter(x_test.cpu().numpy(),prediction,c=\"g\",s=4)\n"
      ],
      "metadata": {
        "id": "BCv--sMNZ9Eg"
      },
      "execution_count": null,
      "outputs": []
    },
    {
      "cell_type": "code",
      "source": [
        "plot(prediction=pred.cpu().numpy())"
      ],
      "metadata": {
        "colab": {
          "base_uri": "https://localhost:8080/",
          "height": 430
        },
        "id": "GAa_4fhAa-vM",
        "outputId": "e5c0fd92-9e15-46e0-c013-bee3e0d33269"
      },
      "execution_count": null,
      "outputs": [
        {
          "output_type": "display_data",
          "data": {
            "text/plain": [
              "<Figure size 640x480 with 1 Axes>"
            ],
            "image/png": "[encoded data removed]"
          },
          "metadata": {}
        }
      ]
    },
    {
      "cell_type": "code",
      "source": [
        "model_1.state_dict()"
      ],
      "metadata": {
        "colab": {
          "base_uri": "https://localhost:8080/"
        },
        "id": "KsNq6Sf4ceib",
        "outputId": "32f6b8fb-2a94-4be4-ae75-0dc1ba8b2b81"
      },
      "execution_count": null,
      "outputs": [
        {
          "output_type": "execute_result",
          "data": {
            "text/plain": [
              "OrderedDict([('linear_layer.weight', tensor([[0.6691]], device='cuda:0')),\n",
              "             ('linear_layer.bias', tensor([0.3130], device='cuda:0'))])"
            ]
          },
          "metadata": {},
          "execution_count": 24
        }
      ]
    },
    {
      "cell_type": "code",
      "source": [],
      "metadata": {
        "id": "2kGZsoUvc4Vg"
      },
      "execution_count": null,
      "outputs": []
    }
  ]
}